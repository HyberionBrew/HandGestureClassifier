{
 "cells": [
  {
   "cell_type": "code",
   "execution_count": 1,
   "metadata": {},
   "outputs": [],
   "source": [
    "import pickle\n",
    "from os.path import join\n",
    "import numpy as np\n",
    "import pandas as pd\n",
    "import matplotlib.pyplot as plt\n",
    "from sklearn import metrics\n",
    "from sklearn.linear_model import LogisticRegression"
   ]
  },
  {
   "cell_type": "code",
   "execution_count": 2,
   "metadata": {},
   "outputs": [],
   "source": [
    "# Load training and validation datasets\n",
    "train_pd, val_pd, test_pd = {}, {}, {}\n",
    "train_pd['rock'] = pd.read_csv('datasets/raw/rock_train.csv')\n",
    "train_pd['paper'] = pd.read_csv('datasets/raw/paper_train.csv')\n",
    "train_pd['scissors'] = pd.read_csv('datasets/raw/scissors_train.csv')\n",
    "val_pd['rock'] = pd.read_csv('datasets/raw/rock_val.csv')\n",
    "val_pd['paper'] = pd.read_csv('datasets/raw/paper_val.csv')\n",
    "val_pd['scissors'] = pd.read_csv('datasets/raw/scissors_val.csv')\n",
    "\n",
    "# Load test datasets\n",
    "## test_0.csv, test_1.csv, test_2.csv each includes a recording a single gesture.\n",
    "## test_combined.csv includes a recording of changing gestures.\n",
    "for i in range(3):\n",
    "    test_pd[i] = pd.read_csv('datasets/raw/test_'+str(i)+'.csv')\n",
    "test_combined_pd = pd.read_csv('datasets/raw/test_combined.csv')"
   ]
  },
  {
   "cell_type": "code",
   "execution_count": 3,
   "metadata": {},
   "outputs": [],
   "source": [
    "# Parameters\n",
    "LABELS = ['rock', 'paper', 'scissors']\n",
    "finger_names = ['Thumb', 'Index', 'Middle', 'Ring', 'Pinky']\n",
    "dim_names = 'xyz'\n",
    "joint_names = []\n",
    "for f in range(5):\n",
    "    for b in range(5):\n",
    "        for d in range(3):\n",
    "            joint_name = finger_names[f]+'-'+str(b)+'-'+dim_names[d]\n",
    "            joint_names.append(joint_name)  \n",
    "#print(test_combined_pd)"
   ]
  },
  {
   "cell_type": "code",
   "execution_count": null,
   "metadata": {},
   "outputs": [],
   "source": []
  },
  {
   "cell_type": "code",
   "execution_count": 4,
   "metadata": {},
   "outputs": [],
   "source": [
    "# Functions for processing datasets\n",
    "def shift_origin(data_pd):\n",
    "    \"\"\"\n",
    "    Shift coordinates of all joints with respect to the joint Thumb-0.\n",
    "    Inputs:\n",
    "        - data_pd: DataFrame. \n",
    "    Outputs:\n",
    "        - shifted_data_pd: DataFrame with coordinate data shifted.        \n",
    "    \"\"\"\n",
    "    \n",
    "    test_combined_numpy = data_pd.to_numpy(copy=False) # do everything in-place\n",
    "    #print(data_pd)\n",
    "    thumb_0_x = test_combined_numpy[:,1]\n",
    "    thumb_0_y = test_combined_numpy[:,2]\n",
    "    thumb_0_z = test_combined_numpy[:,3]\n",
    "\n",
    "    new_x = test_combined_numpy[:,1::3]-thumb_0_x[:, np.newaxis]\n",
    "    new_y = test_combined_numpy[:,2::3]-thumb_0_y[:, np.newaxis]\n",
    "    new_z = test_combined_numpy[:,3::3]-thumb_0_z[:, np.newaxis]\n",
    "\n",
    "    test_combined_numpy[:,1::3] = new_x\n",
    "    test_combined_numpy[:,2::3] = new_y\n",
    "    test_combined_numpy[:,3::3] = new_z\n",
    "    return data_pd\n",
    "\n",
    "def cut_head_tail(data_pd, head_len=500, data_len=6000):\n",
    "    \"\"\"\n",
    "    Cut the head and tail of recorded data for sanity.\n",
    "    Inputs:\n",
    "        - data_pd: DataFrame.\n",
    "        - head_len: the length of head dropped.\n",
    "        - data_len: the length of the kept data.\n",
    "    Outputs:\n",
    "        - cut_data_pd: \n",
    "            None, if the length including head_len and data_len exceeds the length of data_pd;\n",
    "            otherwise, DataFrame with head cut and the length of data_len.\n",
    "    \"\"\"\n",
    "    #print(f\"data_len: {data_len}, head_len {head_len}, act {data_pd.shape}\")\n",
    "    if (head_len + data_len) > data_pd.shape[0]: # TODO! is this completly right +-1\n",
    "        print(\"Cut to much data\")\n",
    "        return None\n",
    "    cut_data_pd = data_pd.drop([i for i in range(head_len)])\n",
    "    cut_data_pd.reset_index(drop=True , inplace=True)\n",
    "    cut_data_pd = cut_data_pd.drop([i for i in range(data_len,cut_data_pd.shape[0])])\n",
    "    cut_data_pd.reset_index(drop=True, inplace=True)\n",
    "    assert(cut_data_pd.shape[0]== data_len)\n",
    "    return cut_data_pd\n",
    "\n",
    "def concat_different_labels(data_pd_dict):\n",
    "    \"\"\"\n",
    "    Form a unified DataFrame with all labels included.\n",
    "    Inputs:\n",
    "        - data_pd_dict: Dictionary\n",
    "            - ['rock']: DataFrame with rock label.\n",
    "            - ['paper']: DataFrame with paper label.\n",
    "            - ['scissors']: DataFrame with scissors label.\n",
    "    Outputs:\n",
    "        - concatenated_data_pd: DataFrame with all labels included.\n",
    "    \"\"\"\n",
    "    return pd.concat([data_pd_dict['rock'], data_pd_dict['paper'], data_pd_dict['scissors']])\n",
    "    \n",
    "def split_features_label(data_pd):\n",
    "    \"\"\"\n",
    "    Split DataFrame into features (X) and label (y).\n",
    "    Inputs:\n",
    "        - data_pd: DataFrame.\n",
    "    Outputs:\n",
    "        - X: feature data. numpy array with shape (num_samples, num_features), where num_features should be 69.\n",
    "        - y: label data. numpy array with shape (num_samples,).\n",
    "    \"\"\"\n",
    "    hasLabel = (data_pd.shape[1] == 77)\n",
    "    if hasLabel: \n",
    "        X = data_pd.to_numpy(copy=True)[:,6+1:-1] # remove time and 6 columns, in addition remove label\n",
    "        Y = data_pd.to_numpy(copy=True) [:,-1]\n",
    "    else:\n",
    "        X = data_pd.to_numpy(copy=True)[:,6 + 1 :]\n",
    "        Y = np.zeros(X.shape[0])\n",
    "    assert(X.shape[1] == 69)\n",
    "    assert(X.shape[0] == Y.shape[0])\n",
    "    return X, Y"
   ]
  },
  {
   "cell_type": "code",
   "execution_count": 6,
   "metadata": {},
   "outputs": [],
   "source": [
    "# Process datasets\n",
    "processed_train_pd = {}\n",
    "processed_val_pd = {}\n",
    "processed_test_pd = {}\n",
    "for label in LABELS:\n",
    "    processed_train_pd[label] = cut_head_tail(train_pd[label], head_len=500, data_len=6000)\n",
    "    processed_train_pd[label] = shift_origin(processed_train_pd[label])\n",
    "    processed_train_pd[label]['label'] = label\n",
    "    processed_val_pd[label] = cut_head_tail(val_pd[label], head_len=100, data_len=1500)\n",
    "    processed_val_pd[label] = shift_origin(processed_val_pd[label])\n",
    "    processed_val_pd[label]['label'] = label\n",
    "    \n",
    "train_data = concat_different_labels(processed_train_pd)\n",
    "X_train, y_train = split_features_label(train_data)\n",
    "val_data = concat_different_labels(processed_val_pd)\n",
    "X_val, y_val = split_features_label(val_data)\n",
    "\n",
    "X_test = {}\n",
    "for i in range(3):\n",
    "    processed_test_pd[i] = cut_head_tail(test_pd[i], head_len=100, data_len=1500)\n",
    "    processed_test_pd[i] = shift_origin(processed_test_pd[i])\n",
    "    X_test[i], _ = split_features_label(processed_test_pd[i])\n",
    "\n",
    "\n",
    "processed_test_combined_pd = shift_origin(test_combined_pd)\n",
    "X_test_combined, _ = split_features_label(processed_test_combined_pd)"
   ]
  },
  {
   "cell_type": "code",
   "execution_count": 7,
   "metadata": {},
   "outputs": [],
   "source": [
    "from sklearn import preprocessing\n",
    "scaler = preprocessing.StandardScaler().fit(X_train)\n",
    "X_train = scaler.transform(X_train)\n",
    "X_val = scaler.transform(X_val)\n",
    "X_test_combined = scaler.transform(X_test_combined)\n",
    "for i in range(3):\n",
    "    X_test[i] = scaler.transform(X_test[i])"
   ]
  },
  {
   "cell_type": "code",
   "execution_count": 8,
   "metadata": {},
   "outputs": [],
   "source": [
    "def train_validate_model(X_train, y_train, X_val, y_val):\n",
    "    \"\"\"\n",
    "    Train and validate a logistic regression model for hand gesture classifier.\n",
    "    Inputs:\n",
    "        - X_train: feature data of training dataset. numpy array with shape (num_train_samples, num_features).\n",
    "        - y_train: label data of training dataset. numpy array with shape (num_train_samples,).\n",
    "        - X_val: feature data of validation dataset. numpy array with shape (num_val_samples, num_features).\n",
    "        - y_val: label data of validation dataset. numpy array with shape (num_val_samples,).\n",
    "    Outputs:\n",
    "        - model: logistic regression model.\n",
    "        - train_accuracy\n",
    "        - val_accuracy\n",
    "    \"\"\"\n",
    "\n",
    "    model = LogisticRegression(random_state=0).fit(X_train, y_train)\n",
    "    train_accuracy = model.score(X_train, y_train)\n",
    "    val_accuracy = model.score(X_val, y_val)\n",
    "    return model, train_accuracy, val_accuracy\n"
   ]
  },
  {
   "cell_type": "code",
   "execution_count": 9,
   "metadata": {},
   "outputs": [
    {
     "name": "stdout",
     "output_type": "stream",
     "text": [
      "Training accuracy: 100.00%\n",
      "Validation accuracy: 98.38%\n"
     ]
    }
   ],
   "source": [
    "model, train_accuracy, val_accuracy = train_validate_model(X_train, y_train, X_val, y_val)\n",
    "print('Training accuracy: {0:.2f}%'.format(100 * train_accuracy))\n",
    "print('Validation accuracy: {0:.2f}%'.format(100 * val_accuracy))"
   ]
  },
  {
   "cell_type": "code",
   "execution_count": 54,
   "metadata": {},
   "outputs": [],
   "source": [
    "def single_hand_gesture_recognition(model, X_test_single, LABELS):\n",
    "    \"\"\"\n",
    "    Train and validate a logistic regression model for hand gesture classifier.\n",
    "    Inputs:\n",
    "        - model: logistic regression model\n",
    "        - X_test_single: feature data of test dataset with a single ground truth label. \\\n",
    "            numpy array with shape (num_test_samples, num_features).\n",
    "        - LABELS: ['rock', 'paper', 'scissors']\n",
    "    Outputs:\n",
    "        - hand_gesture: string. 'rock', 'paper', or 'scissors'.\n",
    "    \"\"\"\n",
    "    print(X_test_single.shape)\n",
    "    res = model.predict(X_test_single)\n",
    "    (unique, counts) = np.unique(res, return_counts=True)\n",
    "    print(f\"Unique {unique}, counts: {counts}\")\n",
    "    index = np.argmax(counts)\n",
    "    return unique[index]\n",
    "\n",
    "def offline_hand_gesture_classifer_and_visualizer(model, X_test_combined, LABELS, label_colors):\n",
    "    \"\"\"\n",
    "    Classify the hand gesture at each time step and visualize the probability distribution over potential \\\n",
    "    hand gestures at each time step.\n",
    "    Inputs:\n",
    "        - model: logistic regression model\n",
    "        - X_test_combined: time series feature data of test dataset with changing hand gesture labels. \\\n",
    "            numpy array with shape (num_test_combined_samples, num_features).\n",
    "        - LABELS: ['rock', 'paper', 'scissors']\n",
    "        - label_colors:\n",
    "            -['rock']: 'r'\n",
    "            -['paper']: 'y'\n",
    "            -['scissors']: 'b'\n",
    "    Outputs:\n",
    "        - Plot the probability distribution over potential hand gestures at each time step.\n",
    "    \"\"\"\n",
    "    fig, ax = plt.subplots()\n",
    "    props = model.predict_proba(X_test_combined)\n",
    "    for i, label in enumerate(model.classes_):\n",
    "        plt.plot(props[:,i], c = label_colors[label] , label=label)\n",
    "\n",
    "    ax.legend()\n",
    "    plt.show()\n",
    "    return"
   ]
  },
  {
   "cell_type": "code",
   "execution_count": 55,
   "metadata": {},
   "outputs": [
    {
     "name": "stdout",
     "output_type": "stream",
     "text": [
      "(1500, 69)\n",
      "Unique ['paper'], counts: [1500]\n",
      "The hand gesture in test_0.csv is paper.\n",
      "(1500, 69)\n",
      "Unique ['scissors'], counts: [1500]\n",
      "The hand gesture in test_1.csv is scissors.\n",
      "(1500, 69)\n",
      "Unique ['rock'], counts: [1500]\n",
      "The hand gesture in test_2.csv is rock.\n"
     ]
    }
   ],
   "source": [
    "for i in range(3):\n",
    "    X_test_single = X_test[i]\n",
    "    hand_gesture = single_hand_gesture_recognition(model, X_test_single, LABELS)\n",
    "    print(\"The hand gesture in test_\"+str(i)+\".csv is \"+hand_gesture+\".\")"
   ]
  },
  {
   "cell_type": "code",
   "execution_count": 56,
   "metadata": {},
   "outputs": [
    {
     "name": "stdout",
     "output_type": "stream",
     "text": [
      "(3503, 3)\n",
      "['paper' 'paper' 'paper' ... 'scissors' 'scissors' 'scissors']\n",
      "\n",
      "['rock', 'paper', 'scissors']\n"
     ]
    },
    {
     "data": {
      "image/png": "[encoded data removed]",
      "text/plain": [
       "<Figure size 432x288 with 1 Axes>"
      ]
     },
     "metadata": {
      "needs_background": "light"
     },
     "output_type": "display_data"
    }
   ],
   "source": [
    "label_colors = {'rock': 'r', 'paper': 'y', 'scissors': 'b'}\n",
    "offline_hand_gesture_classifer_and_visualizer(model, X_test_combined, LABELS, label_colors)"
   ]
  },
  {
   "cell_type": "code",
   "execution_count": null,
   "metadata": {},
   "outputs": [],
   "source": [
    "# Save the trained model.\n",
    "model_folder = 'models'\n",
    "filename = 'lr_rock_paper_scissors.pkl'\n",
    "with open(join(model_folder, filename), 'wb') as f:\n",
    "    pickle.dump(model, f)\n",
    "    print(join(model_folder, filename)+\" is saved.\")"
   ]
  }
 ],
 "metadata": {
  "kernelspec": {
   "display_name": "Python 3 (ipykernel)",
   "language": "python",
   "name": "python3"
  },
  "language_info": {
   "codemirror_mode": {
    "name": "ipython",
    "version": 3
   },
   "file_extension": ".py",
   "mimetype": "text/x-python",
   "name": "python",
   "nbconvert_exporter": "python",
   "pygments_lexer": "ipython3",
   "version": "3.6.9"
  }
 },
 "nbformat": 4,
 "nbformat_minor": 2
}
